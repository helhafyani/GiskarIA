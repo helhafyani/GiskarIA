{
 "cells": [
  {
   "cell_type": "code",
   "execution_count": 1,
   "id": "894d94ca",
   "metadata": {},
   "outputs": [
    {
     "name": "stderr",
     "output_type": "stream",
     "text": [
      "[nltk_data] Downloading package stopwords to /root/nltk_data...\n",
      "[nltk_data]   Package stopwords is already up-to-date!\n",
      "[nltk_data] Downloading package punkt to /root/nltk_data...\n",
      "[nltk_data]   Package punkt is already up-to-date!\n",
      "[nltk_data] Downloading package wordnet to /root/nltk_data...\n",
      "[nltk_data]   Package wordnet is already up-to-date!\n",
      "[nltk_data] Downloading package averaged_perceptron_tagger to\n",
      "[nltk_data]     /root/nltk_data...\n",
      "[nltk_data]   Package averaged_perceptron_tagger is already up-to-\n",
      "[nltk_data]       date!\n",
      "2022-02-28 11:28:00.614138: W tensorflow/stream_executor/platform/default/dso_loader.cc:64] Could not load dynamic library 'libcudart.so.11.0'; dlerror: libcudart.so.11.0: cannot open shared object file: No such file or directory; LD_LIBRARY_PATH: /root/hadoop/lib/native:\n",
      "2022-02-28 11:28:00.614181: I tensorflow/stream_executor/cuda/cudart_stub.cc:29] Ignore above cudart dlerror if you do not have a GPU set up on your machine.\n"
     ]
    },
    {
     "name": "stdout",
     "output_type": "stream",
     "text": [
      "================================\n",
      "Emails classification\n",
      "The first step is pre-process the data\n",
      "================================\n",
      "================================\n",
      "df = PS.clean_columns(df)\n",
      "This step might take a while. Please refer to processed_data.csv for the results\n",
      "================================\n",
      "================================\n",
      "Classification with the processed emails\n",
      "Let's check the distribution of classes\n"
     ]
    },
    {
     "data": {
      "image/png": "[encoded data removed]",
      "text/plain": [
       "<Figure size 432x288 with 1 Axes>"
      ]
     },
     "metadata": {
      "needs_background": "light"
     },
     "output_type": "display_data"
    },
    {
     "name": "stdout",
     "output_type": "stream",
     "text": [
      "================================\n",
      "Data shows an imbalanced characteristic\n",
      "================================\n",
      "Let us see the performance of the classification with this imbalanced data: \n",
      "================================\n",
      "\n",
      "\n",
      "The classification showed an accuracy of :  0.3402061855670103\n",
      "\n",
      "\n",
      "Since the data is imbalanced, we solve first this problem with SMOTE algorithm and classify the data then.\n",
      "\n",
      "\n",
      "================================\n",
      "Data is now balanced: \n",
      "================================\n"
     ]
    },
    {
     "data": {
      "image/png": "[encoded data removed]",
      "text/plain": [
       "<Figure size 432x288 with 1 Axes>"
      ]
     },
     "metadata": {
      "needs_background": "light"
     },
     "output_type": "display_data"
    },
    {
     "name": "stdout",
     "output_type": "stream",
     "text": [
      "================================\n",
      "The classification accuracy is now : \n",
      "================================\n",
      "0.8695652173913043\n"
     ]
    }
   ],
   "source": [
    "from GiskarIA import *"
   ]
  },
  {
   "cell_type": "code",
   "execution_count": null,
   "id": "4c7cf697",
   "metadata": {},
   "outputs": [],
   "source": []
  }
 ],
 "metadata": {
  "kernelspec": {
   "display_name": "Python 3 (ipykernel)",
   "language": "python",
   "name": "python3"
  },
  "language_info": {
   "codemirror_mode": {
    "name": "ipython",
    "version": 3
   },
   "file_extension": ".py",
   "mimetype": "text/x-python",
   "name": "python",
   "nbconvert_exporter": "python",
   "pygments_lexer": "ipython3",
   "version": "3.9.2"
  }
 },
 "nbformat": 4,
 "nbformat_minor": 5
}
